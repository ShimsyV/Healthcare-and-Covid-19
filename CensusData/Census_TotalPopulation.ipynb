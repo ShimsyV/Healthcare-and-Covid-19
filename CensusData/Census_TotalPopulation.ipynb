{
 "cells": [
  {
   "cell_type": "markdown",
   "metadata": {},
   "source": [
    "# Census - Total Population"
   ]
  },
  {
   "cell_type": "markdown",
   "metadata": {},
   "source": [
    "#### This notebook contains code for gathering Census data tables and converting them to dataframes. \n",
    "#### Please use caution when altering this code."
   ]
  },
  {
   "cell_type": "code",
   "execution_count": null,
   "metadata": {},
   "outputs": [],
   "source": [
    "import pandas as pd\n",
    "from census import Census #<-- Python wrapper for census API\n",
    "import requests\n",
    "import os\n",
    "import matplotlib.pyplot as plt\n",
    "import matplotlib\n",
    "\n",
    "\n",
    "\n",
    "# Census API Key\n",
    "from config import api_key\n",
    "\n",
    "# provide the api key and the year to establish a session\n",
    "c = Census(api_key, year=2018)\n",
    "\n",
    "# Set an option to allow up to 300 characters to print in each column\n",
    "pd.set_option('max_colwidth', 300)"
   ]
  },
  {
   "cell_type": "markdown",
   "metadata": {},
   "source": [
    "##### The cell below gathering columns names from the Census Total Population table that only contain estimate and are int data types.\n",
    "##### Those table names are added to a string variable and then pulled from the census data.\n",
    "##### Dictionary key names are replaced withe more meaningful names.\n",
    "##### Data is saved to a dataframe and exported as a csv file."
   ]
  },
  {
   "cell_type": "code",
   "execution_count": null,
   "metadata": {},
   "outputs": [],
   "source": [
    "table_id = 'B01003'   \n",
    "\n",
    "# Capture the variables URL from the table_df\n",
    "url = table_df.loc[table_df['name']==table_id, 'variables'].values[0]\n",
    "\n",
    "# Make the API call\n",
    "response = requests.get(url).json()\n",
    "\n",
    "# convert the response to a DataFrame\n",
    "variables = pd.DataFrame(response['variables']).transpose()\n",
    "\n",
    "print(f\"Number of available variables: {len(variables)}\")\n",
    "\n",
    "table_info = variables[(variables['predicateType']=='int') & (variables['label'].str.contains(\"Estimate\"))]   \n",
    "\n",
    "\n",
    "table_columns = \"\"\n",
    "for ind in table_info.index:       \n",
    "    table_columns = table_columns + f\"{ind},\"\n",
    "    \n",
    "    \n",
    "column_list = table_columns[:-1]\n",
    "census_data = c.acs5.get((\"NAME\", column_list), \n",
    "                          {'for': 'county:*'})\n",
    "\n",
    "for i in range(len(table_info)) : \n",
    "    for d in census_data:\n",
    "        d[table_info.iloc[i, 0]] = d.pop(table_info.index[i]) \n",
    "    \n",
    "\n",
    "census_B01003_TotalPop_df = pd.DataFrame(census_data)\n",
    "census_B01003_TotalPop_df.to_csv(\"census_B01003_TotalPop.csv\", encoding=\"utf-8\", index=False )\n",
    "census_B01003_TotalPop_df"
   ]
  },
  {
   "cell_type": "code",
   "execution_count": null,
   "metadata": {},
   "outputs": [],
   "source": []
  }
 ],
 "metadata": {
  "kernelspec": {
   "display_name": "Python 3",
   "language": "python",
   "name": "python3"
  },
  "language_info": {
   "codemirror_mode": {
    "name": "ipython",
    "version": 3
   },
   "file_extension": ".py",
   "mimetype": "text/x-python",
   "name": "python",
   "nbconvert_exporter": "python",
   "pygments_lexer": "ipython3",
   "version": "3.8.3"
  }
 },
 "nbformat": 4,
 "nbformat_minor": 4
}
